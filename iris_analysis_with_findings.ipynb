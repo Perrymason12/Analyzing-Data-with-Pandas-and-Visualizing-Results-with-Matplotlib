
{
 "cells": [
  {
   "cell_type": "markdown",
   "metadata": {},
   "source": ["# Iris Dataset Analysis"]
  },
  {
   "cell_type": "code",
   "execution_count": null,
   "metadata": {},
   "outputs": [],
   "source": ['', '# Iris Dataset Analysis', '', 'import pandas as pd', 'import matplotlib.pyplot as plt', 'import seaborn as sns', 'from sklearn.datasets import load_iris', '', '# Load dataset', 'iris_data = load_iris(as_frame=True)', 'df = iris_data.frame', '', '# Inspect first rows', 'print(df.head())', '', '# Check dataset info', 'print(df.info())', '', '# Check missing values', 'print(df.isnull().sum())', '', '# Basic statistics', 'print(df.describe())', '', '# Grouping example: mean values per species', 'print(df.groupby("target").mean())', '', '# Visualizations', 'plt.figure(figsize=(14, 10))', '', '# 1. Line chart', "df['sepal length (cm)'].cumsum().plot(kind='line')", 'plt.title("Line Chart: Cumulative Sepal Length")', 'plt.xlabel("Index")', 'plt.ylabel("Cumulative Sepal Length")', 'plt.show()', '', '# 2. Bar chart', 'df.groupby("target")["petal length (cm)"].mean().plot(kind=\'bar\')', 'plt.title("Bar Chart: Avg Petal Length per Species")', 'plt.xlabel("Species")', 'plt.ylabel("Avg Petal Length")', 'plt.show()', '', '# 3. Histogram', "df['sepal width (cm)'].plot(kind='hist', bins=15, alpha=0.7)", 'plt.title("Histogram: Sepal Width Distribution")', 'plt.xlabel("Sepal Width")', 'plt.show()', '', '# 4. Scatter plot', 'sns.scatterplot(data=df, x="sepal length (cm)", y="petal length (cm)", hue="target", palette="Set1")', 'plt.title("Scatter Plot: Sepal vs Petal Length")', 'plt.xlabel("Sepal Length")', 'plt.ylabel("Petal Length")', 'plt.show()']
  },
  {
   "cell_type": "markdown",
   "metadata": {},
   "source": ['', '## Findings & Observations', '', '1. **Dataset Structure**  ', '   - The Iris dataset contains **150 samples** with **4 numerical features** (sepal length, sepal width, petal length, petal width) and **1 categorical target** (species).  ', '   - No missing values were found in the dataset.', '', '2. **Basic Statistics**  ', '   - Sepal length ranges from about **4.3 cm to 7.9 cm**.  ', '   - Petal length has a much wider spread across species, ranging from **1.0 cm to 6.9 cm**.  ', '   - Standard deviations indicate that **petal measurements** vary more than sepal measurements.', '', '3. **Group Analysis (per species)**  ', '   - **Setosa** has the smallest petal lengths and widths.  ', '   - **Virginica** has the largest values across most measurements.  ', '   - **Versicolor** sits in between, making it the “medium-sized” species.', '', '4. **Visual Patterns**  ', "   - **Line chart**: Cumulative sepal length shows a steady upward trend (expected since it's cumulative).  ", '   - **Bar chart**: Clear differences in **average petal length per species**—Setosa is much smaller than the others.  ', '   - **Histogram**: Sepal width distribution shows clustering around 3 cm, with fewer flowers at the extremes.  ', '   - **Scatter plot**: Strong positive correlation between **sepal length and petal length**. Species are well-separated in this space, especially Setosa, which clusters distinctly.']
  }
 ],
 "metadata": {
  "kernelspec": {
   "display_name": "Python 3",
   "language": "python",
   "name": "python3"
  },
  "language_info": {
   "name": "python",
   "version": "3.8"
  }
 },
 "nbformat": 4,
 "nbformat_minor": 5
}
